{
  "nbformat": 4,
  "nbformat_minor": 0,
  "metadata": {
    "colab": {
      "provenance": []
    },
    "kernelspec": {
      "name": "python3",
      "display_name": "Python 3"
    },
    "language_info": {
      "name": "python"
    }
  },
  "cells": [
    {
      "cell_type": "markdown",
      "source": [
        "**Ques1:What are data structures, and why are they important?**\n",
        "  -  Data structures are specialized formats for organizing, storing, and accessing collections of data. They provide efficient ways to manage information based on its characteristics and intended use.\n",
        "  Think of them as containers that hold your data and determine how you can interact with it. Different containers are better suited for different types of items.\n",
        "  - *Why are they important?*\n",
        "    - Choosing the right data structure significantly impacts the efficiency and performance of your program.\n",
        "    - Well-chosen data structures can:\n",
        "    - Simplify data manipulation (adding, removing, modifying elements)\n",
        "    - Optimize searching and sorting operations\n",
        "    - Conserve memory usage\n",
        "\n",
        "- ***Everyday Examples of Data Structures:***\n",
        "  - List/Array:\n",
        "    -  Example: Imagine a shopping list where you write items one by one (like bread, milk, eggs). This is similar to an array or list, where items are stored in a specific order.\n",
        "    - Why important? You can access any item by its position (e.g., 2nd item is milk).\n",
        "  - Stack:\n",
        "    - Example: A stack of plates. You can only add or remove plates from the top (Last In, First Out – LIFO).\n",
        "    - Why important? Used in undo operations in software (e.g., Ctrl+Z in Word).\n",
        "  - Queue:\n",
        "    - Example: A line at a ticket counter. People join from the end and leave from the front (First In, First Out – FIFO).\n",
        "    - Why important? Used in managing tasks in printers or operating systems.\n",
        "  - Dictionary/HashMap:\n",
        "    - Example: A phonebook, where you look up a name to find the number.\n",
        "    - Why important? Quick lookups; used in databases, caching, and much more.\n",
        "  - Tree:\n",
        "    - Example: A family tree or a folder structure on your computer.\n",
        "    - Why important? Efficiently organizes hierarchical data, like file systems or decision-making processes.\n",
        "  - Graph:\n",
        "    - Example: A map where cities are connected by roads. The cities are nodes, and the roads are edges.\n",
        "    - Why important? Helps in understanding networks, like social media connections or traffic systems.    \n",
        "\n",
        "**Ques2: Explain the difference between mutable and immutable data types with examples?**\n",
        "- *1.Mutable Data Types*\n",
        "   - Definition: These are data types whose values can be modified after creation.\n",
        "   - Examples:\n",
        "    - Lists\n",
        "    - Dictionaries\n",
        "    - Sets\n",
        "- Characteristics:\n",
        "    - You can change, add, or remove elements without creating a new object.\n",
        "The memory address of the object remains the same.\n",
        "- *2.Immutable Data Types*\n",
        "   - Definition: These are data types whose values cannot be modified after creation.\n",
        "   - Examples:\n",
        "    - Strings\n",
        "    - Tuples\n",
        "    - Integers\n",
        "    - Floats\n",
        "    - Booleans\n",
        "- Characteristics:\n",
        "  - Any \"modification\" creates a new object rather than changing the original.\n",
        "The memory address changes when you try to \"change\" it.\n",
        "\n",
        "**Ques3: What are the main differences between lists and tuples in Python?**\n",
        "- List:\n",
        "      - mutable\n",
        "      - syntax is []\n",
        "      - slower dues to mutability.\n",
        "      - used when we need to modify data.\n",
        "- Tuple:\n",
        "       - immutable\n",
        "       - syntax is ()\n",
        "       - faster due to immutability.\n",
        "       - used when we want to ensure data remains constant.\n",
        "\n",
        "**Ques4: Describe how dictionaries store data?**\n",
        "- A dictionary in Python stores data in the form of key-value pairs, where each key is unique, and it’s used to access the corresponding value. Think of it as a real-life dictionary: you look up a word (key) to find its definition (value).\n",
        "- Eg:\n",
        "     - Create a dictionary\n",
        "     - my_dict = {\"name\": \"Shagun\", \"age\": 20, \"city\": \"Delhi\"}\n",
        "     - Accessing values using keys\n",
        "     - print(my_dict[\"name\"])  # Output: Shagun\n",
        "     - print(my_dict[\"age\"])   # Output: 20             \n",
        "\n",
        "**Ques5: Why might you use a set instead of a list in Python?**\n",
        "- We might use a set instead of a list in Python when:\n",
        "  - Unique Elements: Sets automatically remove duplicates, ensuring all elements are unique.\n",
        "  - Faster Lookups: Sets use a hash table, making membership tests (in) much faster than lists.\n",
        "  - Set Operations: Sets provide built-in support for mathematical operations like union, intersection, and difference.\n",
        "- *When to Use a Set Instead of a List*\n",
        "- Use a set:\n",
        "  - When you need unique elements.\n",
        "  - When you frequently check for membership.\n",
        "  - When you need to perform set operations.\n",
        "- Use a list:\n",
        "  - When order matters.\n",
        "  - When you need duplicate elements.\n",
        "  - When you want to access items by their position (indexing).\n",
        "- *Analogy*\n",
        "  - List: Like a basket where you can throw in any items, even duplicates.\n",
        "  - Set: Like a collection of unique stamps—you can’t have duplicates, and it’s easy to check if you already own a stamp.\n",
        "\n",
        "**Ques6: What is a string in Python, and how is it different from a list?**\n",
        "- A string in Python is a sequence of characters (like letters, numbers, or symbols) used to store text. Strings are enclosed in single quotes (') or double quotes (\").\n",
        "- String is different from a list by:\n",
        "  - string:\n",
        "    - stores characters only(eg: \"abc\")\n",
        "    - Immutable\n",
        "    - enclosed in quotes \"\" or ''\n",
        "  - List:\n",
        "    - stores any data type.\n",
        "    - mutable\n",
        "    - enclosed in square brackets.[]  \n",
        "-*Simple Analogy:*\n",
        "  - A string is like a printed book—you can’t change its words, but you can copy and modify the whole text.\n",
        "  - A list is like a notebook—you can add, erase, or rearrange its pages.    \n",
        "\n",
        "**Ques7: How do tuples ensure data integrity in Python?**\n",
        "- Tuples in Python are immutable, meaning once created, their contents cannot be changed. This immutability ensures data integrity by preventing accidental or intentional modifications.\n",
        "-*Analogy:*\n",
        "  - A tuple is like a sealed contract: once written, it cannot be changed. This makes it perfect for storing data you don’t want anyone to tamper with.\n",
        "\n",
        "Ques8: What is a hash table, and how does it relate to dictionaries in Python?\n",
        "- A hash table is a special data structure that stores data using a process called hashing. It works like a super-organized filing cabinet\n",
        "- In Python, dictionaries are built using hash tables. When you create a dictionary, Python uses the keys to generate unique hashes, which determine where the key-value pairs are stored. This makes dictionaries very fast for lookups.\n",
        "- *Simple Analogy:*\n",
        "- *A dictionary is like a locker system at a gym:*\n",
        "  - Each locker has a unique number (hash).\n",
        "  - You (the key) use your locker number to store or retrieve your items (the value).\n",
        "  - You don’t need to search through every locker to find your stuff—the number takes you directly there.\n",
        "\n",
        "**Ques9: Can lists contain different data types in Python?**  \n",
        "- Yes, lists in Python can contain different data types.\n",
        " - A list in Python is a versatile data structure that can hold elements of different types, including numbers, strings, other lists, floats, boolean or even custom objects.\n",
        "\n",
        "**Ques10: Explain why strings are immutable in Python?**\n",
        "- Strings are immutable in Python, which means you cannot change a string after you create it. If you try to modify a string, Python will create a new string instead of changing the original one. This immutability has several important reasons:\n",
        "  - Memory Efficiency\n",
        "  - Hashing for Dictionaries and Sets\n",
        "    - Strings are commonly used as keys in dictionaries or elements in sets.\n",
        "  - Thread Safety\n",
        "  - Predictable Behavior\n",
        "    - Immutability avoids unintended side effects. If a string could be modified, changing one part of the program might affect another part unexpectedly.  \n",
        "\n",
        "**Ques11: What advantages do dictionaries offer over lists for certain tasks?**\n",
        "- Dictionaries and lists are both powerful data structures in Python, but they are suited to different types of tasks. Here are the key advantages dictionaries offer over lists:\n",
        "- 1. Fast Lookups\n",
        "  - Dictionaries are optimized for key-based lookups using a hashing mechanism.\n",
        "  - Accessing a value by its key is much faster (O(1) time complexity) than searching for an item in a list (O(n) time complexity).\n",
        "- 2. Key-Value Pair Storage\n",
        "  - Dictionaries allow you to store data with meaningful labels (keys), making the data easier to understand and manage.\n",
        "  - In a list, data is stored by position (index), which can be less intuitive.  \n",
        "- 3. No Duplicate Keys\n",
        "  - Dictionaries automatically prevent duplicate keys. This is helpful when you want to ensure uniqueness.\n",
        "  - Lists allow duplicate elements, which may lead to confusion.\n",
        "- 4. Efficient Updates\n",
        "  - Updating or modifying a value in a dictionary is easier because you can access it directly using the key.\n",
        "  - In lists, you often need to search for the item by its position or content before updating.\n",
        "- 5. Flexible Data Structures\n",
        "  - Dictionaries can hold complex data structures like lists, other dictionaries, or objects as values.\n",
        "  - While lists can hold complex data, dictionaries provide a more structured way to organize data.  \n",
        "- 6. Improved Readability\n",
        "  - Dictionary keys act as labels for values, making the code more readable and self-explanatory.\n",
        "  - Lists require comments or additional context to describe the meaning of their elements.\n",
        "- *When to Use Dictionaries Over Lists:*\n",
        "   - When you need quick lookups or search by a meaningful key.\n",
        "   - When you want to organize data as key-value pairs.\n",
        "   - When ensuring uniqueness of keys is essential.\n",
        "   - When working with nested or structured data.\n",
        "\n",
        "**Ques12: Describe a scenario where using a tuple would be preferable over a list?  **\n",
        "- A tuple would be preferable in scenarios where data integrity, immutability, and performance are important. Here’s a practical example:\n",
        "- *Scenario: Storing Coordinates of a Geographical Location*\n",
        "  - Imagine you're working with a geographic application that needs to store the coordinates (latitude and longitude) of various places. These coordinates should not change once they've been set, as changing them would imply that the location itself has changed.\n",
        "\n",
        "**Ques13: How do sets handle duplicate values in Python?**\n",
        "- A set in Python automatically removes duplicates. This means that when you try to add a duplicate value to a set, it will ignore it and only keep the unique values.\n",
        "- *Real-World Analogy:*\n",
        "  - Think of a set like a guest list for an event. If a person tries to RSVP multiple times, their name will appear only once on the list, no matter how many times they try to sign up.\n",
        "\n",
        "**Ques14: How does the “in” keyword work differently for lists and dictionaries?  **\n",
        "-  *Using in with a List:*\n",
        "   - When you use the in keyword with a list, it checks if a specific element exists in the list. It will go through each item in the list and return True if it finds a match.\n",
        "- *Using in with a Dictionary:*\n",
        "   - When you use the in keyword with a dictionary, it checks if the key exists in the dictionary, not the value. It does not search the values; it looks at the keys only.\n",
        "- Therefore, Key Differences:\n",
        "  - For Lists: in checks for the presence of an element (the value).\n",
        "  - For Dictionaries: in checks for the presence of a key.\n",
        "   \n",
        "**Ques15: Can you modify the elements of a tuple? Explain why or why not? **   \n",
        "- No, you cannot modify the elements of a tuple once it has been created. This is because tuples are immutable in Python, meaning their values cannot be changed, added, or removed after they are initialized.\n",
        "- *Real-World Analogy:*\n",
        "  - A tuple is like a frozen ice sculpture. Once it's made, you cannot change its shape or features. If you need a new one, you have to create a completely new sculpture, just like creating a new tuple.\n",
        "\n",
        "**Ques16: What is a nested dictionary, and give an example of its use case?**\n",
        "- A nested dictionary in Python is a dictionary where the value of one or more keys is another dictionary. This allows you to store hierarchical or more complex data structures.\n",
        "- Practical Use Case: Storing Employee Information\n",
        "Suppose you're managing employee records for a company, and you need to store details like the employee's name, department, salary, and the projects they're working on. A nested dictionary would work well for this:\n",
        "       - employee_records = {\n",
        "       - \"emp1\": {\n",
        "        \"name\": \"John\",\n",
        "        \"department\": \"HR\",\n",
        "        \"salary\": 50000,\n",
        "        \"projects\": [\"Recruitment\", \"Training\"]\n",
        "    },\n",
        "    \"emp2\": {\n",
        "        \"name\": \"Jane\",\n",
        "        \"department\": \"IT\",\n",
        "        \"salary\": 75000,\n",
        "        \"projects\": [\"Software Development\", \"Network Security\"]\n",
        "    }\n",
        "}\n",
        "    - print(employee_records[\"emp1\"][\"name\"])  # Output: John\n",
        "    - print(employee_records[\"emp2\"][\"projects\"])\n",
        "\n",
        "**Ques17: Describe the time complexity of accessing elements in a dictionary?**\n",
        "- In Python, dictionaries are implemented using a hash table. This allows for fast lookups and efficient data access. Here's a breakdown of the time complexity when accessing elements in a dictionary:\n",
        "  - Time Complexity for Accessing an Element:\n",
        "  - Average Case: O(1) (Constant time)\n",
        "  - Worst Case: O(n) (Linear time)\n",
        "\n",
        "**Ques18: In what situations are lists preferred over dictionaries?**  \n",
        "- While dictionaries are great for associating keys with values, lists are better suited for situations where you need an ordered collection of items and don't necessarily need to look up elements by a key.\n",
        "- Here are some situations where you would prefer a list over a dictionary:\n",
        "  - 1.*When Order Matters (Index-Based Access):*\n",
        "    - If you need to maintain the order of elements and access them by their index, lists are the best choice. Lists are ordered, meaning the order in which you insert items is preserved.\n",
        "  - *2. When You Need to Store a Simple Collection of Values:*\n",
        "     - If you are just working with a simple collection of values (not key-value pairs), and don’t need to associate values with specific keys, a list is more appropriate.\n",
        "  - *3. When You Need to Support Duplicates*    \n",
        "  - *4. When You Need to Perform Sequential Operations:*\n",
        "     - Lists are ideal for operations that involve iteration, such as sorting, filtering, or looping through items in a specific order.\n",
        "- *Summary of When to Use Lists:*\n",
        "  - When you need ordered data (index-based access).\n",
        "  - When you're working with a simple collection of values (no key-value pairs).\n",
        "  - When you need to store duplicates.\n",
        "  - When performing sequential operations (sorting, filtering, etc.).\n",
        "  - When you don’t need fast lookups by key.\n",
        "\n",
        "**Ques19: Why are dictionaries considered unordered, and how does that affect data retrieval?**\n",
        "- In Python, dictionaries are considered unordered because they do not maintain the order of the items when they are inserted. Instead, dictionaries store key-value pairs using a hashing mechanism, which is not concerned with the order of insertion. This means that the position of keys and values in a dictionary may not be the same as the order in which they were added.\n",
        "\n",
        "- However, in Python 3.7 and later, dictionaries do preserve insertion order for iteration purposes. This means that when you loop through a dictionary or convert it to a list, the items will be returned in the order they were added. But, even though this feature is provided, dictionaries still use a hash table internally to organize their data, so they're still technically considered unordered in terms of how they store and retrieve data.\n",
        "\n",
        "- *Summary of the Effects of Unordered Nature:*\n",
        "   - Efficient Retrieval: Dictionary access is fast (O(1)) based on the key, even though the dictionary itself is unordered.\n",
        "   - No Indexing: You cannot access dictionary values by their position like in lists, only by their key.\n",
        "   - Preserved Order for Iteration: In Python 3.7+, dictionaries preserve the insertion order when iterating, but order is not guaranteed for any other operations (like accessing by index).\n",
        "\n",
        "**Ques20: Explain the difference between a list and a dictionary in terms of data retrieval.**   \n",
        "- 1. Data Retrieval in a List:\n",
        "  - A list is an ordered collection of elements, and you retrieve data from a list based on indexing. Each item in a list has a specific position (index) starting from 0.\n",
        "- 2. Data Retrieval in a Dictionary:\n",
        "  - A dictionary is an unordered collection of key-value pairs. Data is retrieved from a dictionary using keys, not positions.\n",
        "\n"
      ],
      "metadata": {
        "id": "eYgW4Z1Q1eE2"
      }
    },
    {
      "cell_type": "code",
      "source": [
        "# 1.Write a code to create a string with your name and print it\n",
        "name = \"Shagun Singh\"\n",
        "print(name)\n"
      ],
      "metadata": {
        "colab": {
          "base_uri": "https://localhost:8080/"
        },
        "id": "Mu4O5ViAmeE-",
        "outputId": "e7b489c7-5a45-4b13-f39c-a553da4ac4c0"
      },
      "execution_count": 1,
      "outputs": [
        {
          "output_type": "stream",
          "name": "stdout",
          "text": [
            "Shagun Singh\n"
          ]
        }
      ]
    },
    {
      "cell_type": "code",
      "source": [
        "# 2. Write a code to find the length of the string \"Hello World\"\n",
        "word = \"Hello World\"\n",
        "len(word)"
      ],
      "metadata": {
        "colab": {
          "base_uri": "https://localhost:8080/"
        },
        "id": "kyqvR1LImyXK",
        "outputId": "96116e15-b206-408b-d138-9d7bd442fb3c"
      },
      "execution_count": 2,
      "outputs": [
        {
          "output_type": "execute_result",
          "data": {
            "text/plain": [
              "11"
            ]
          },
          "metadata": {},
          "execution_count": 2
        }
      ]
    },
    {
      "cell_type": "code",
      "source": [
        "# 3. Write a code to slice the first 3 characters from the string \"Python Programming\"\n",
        "word = \"Python Programming\"\n",
        "word[0:3] # or word[:3]"
      ],
      "metadata": {
        "colab": {
          "base_uri": "https://localhost:8080/",
          "height": 36
        },
        "id": "7RspQ7iYnB7V",
        "outputId": "6e51f378-e48d-4eff-e035-764641a3db4c"
      },
      "execution_count": 3,
      "outputs": [
        {
          "output_type": "execute_result",
          "data": {
            "text/plain": [
              "'Pyt'"
            ],
            "application/vnd.google.colaboratory.intrinsic+json": {
              "type": "string"
            }
          },
          "metadata": {},
          "execution_count": 3
        }
      ]
    },
    {
      "cell_type": "code",
      "source": [
        "# 4. Write a code to convert the string \"hello\" to uppercase\n",
        "word = \"hello\"\n",
        "word.upper()"
      ],
      "metadata": {
        "colab": {
          "base_uri": "https://localhost:8080/",
          "height": 36
        },
        "id": "a_MkflbynQGD",
        "outputId": "abb56352-1e0e-456a-a7fd-d8641dfd33b3"
      },
      "execution_count": 4,
      "outputs": [
        {
          "output_type": "execute_result",
          "data": {
            "text/plain": [
              "'HELLO'"
            ],
            "application/vnd.google.colaboratory.intrinsic+json": {
              "type": "string"
            }
          },
          "metadata": {},
          "execution_count": 4
        }
      ]
    },
    {
      "cell_type": "code",
      "source": [
        "# 5.Write a code to replace the word \"apple\" with \"orange\" in the string \"I like apple\"\n",
        "sentence = \"I like apple\"\n",
        "sentence.replace(\"apple\", \"orange\")"
      ],
      "metadata": {
        "colab": {
          "base_uri": "https://localhost:8080/",
          "height": 36
        },
        "id": "EJAZ2WJKnf4N",
        "outputId": "52043fba-f45b-4669-c9d7-a7295a424b0a"
      },
      "execution_count": 5,
      "outputs": [
        {
          "output_type": "execute_result",
          "data": {
            "text/plain": [
              "'I like orange'"
            ],
            "application/vnd.google.colaboratory.intrinsic+json": {
              "type": "string"
            }
          },
          "metadata": {},
          "execution_count": 5
        }
      ]
    },
    {
      "cell_type": "code",
      "source": [
        "# 6. Write a code to create a list with numbers 1 to 5 and print it\n",
        "list = [1,2,3,4,5]\n",
        "print(list)"
      ],
      "metadata": {
        "colab": {
          "base_uri": "https://localhost:8080/"
        },
        "id": "FY6oojNonxZ6",
        "outputId": "97843c34-29e7-4b1e-9534-b9d125f3741f"
      },
      "execution_count": 6,
      "outputs": [
        {
          "output_type": "stream",
          "name": "stdout",
          "text": [
            "[1, 2, 3, 4, 5]\n"
          ]
        }
      ]
    },
    {
      "cell_type": "code",
      "source": [
        "# 7. Write a code to append the number 10 to the list [1, 2, 3, 4]\n",
        "list = [1,2,3,4]\n",
        "list.append(10)\n",
        "print(list)"
      ],
      "metadata": {
        "colab": {
          "base_uri": "https://localhost:8080/"
        },
        "id": "4cbIsko7oANm",
        "outputId": "81113283-5173-4b44-edd9-032ae39e8c05"
      },
      "execution_count": 7,
      "outputs": [
        {
          "output_type": "stream",
          "name": "stdout",
          "text": [
            "[1, 2, 3, 4, 10]\n"
          ]
        }
      ]
    },
    {
      "cell_type": "code",
      "source": [
        "# 8. Write a code to remove the number 3 from the list [1, 2, 3, 4, 5]\n",
        "list = [1,2,3,4,5]\n",
        "list.remove(3)\n",
        "print(list)"
      ],
      "metadata": {
        "colab": {
          "base_uri": "https://localhost:8080/"
        },
        "id": "gslwaxnLoKib",
        "outputId": "94ac2531-c5f1-4c95-e942-5dd46f13f186"
      },
      "execution_count": 8,
      "outputs": [
        {
          "output_type": "stream",
          "name": "stdout",
          "text": [
            "[1, 2, 4, 5]\n"
          ]
        }
      ]
    },
    {
      "cell_type": "code",
      "source": [
        "# 9. Write a code to access the second element in the list ['a', 'b', 'c', 'd']\n",
        "list = ['a', 'b', 'c', 'd']\n",
        "list[1]"
      ],
      "metadata": {
        "colab": {
          "base_uri": "https://localhost:8080/",
          "height": 36
        },
        "id": "6flO6AZ1oPWM",
        "outputId": "c90f3bbf-391b-4218-e79e-ef5fa4dfe3ca"
      },
      "execution_count": 9,
      "outputs": [
        {
          "output_type": "execute_result",
          "data": {
            "text/plain": [
              "'b'"
            ],
            "application/vnd.google.colaboratory.intrinsic+json": {
              "type": "string"
            }
          },
          "metadata": {},
          "execution_count": 9
        }
      ]
    },
    {
      "cell_type": "code",
      "source": [
        "# 10. Write a code to reverse the list [10, 20, 30, 40, 50].\n",
        "my_list = [10,20,30,40,50]\n",
        "my_list.reverse()\n",
        "print(my_list)"
      ],
      "metadata": {
        "colab": {
          "base_uri": "https://localhost:8080/"
        },
        "id": "cFU5wQtMoXE5",
        "outputId": "00b9b82c-e9f2-4f9a-f519-977bf251c160"
      },
      "execution_count": 10,
      "outputs": [
        {
          "output_type": "stream",
          "name": "stdout",
          "text": [
            "[50, 40, 30, 20, 10]\n"
          ]
        }
      ]
    },
    {
      "cell_type": "code",
      "source": [
        "# 11. Write a code to create a tuple with the elements 10, 20, 30 and print it.\n",
        "my_tuple = (10,20,30)\n",
        "print(my_tuple)"
      ],
      "metadata": {
        "colab": {
          "base_uri": "https://localhost:8080/"
        },
        "id": "ly57xe-los6Z",
        "outputId": "1462d987-a0af-4ed0-d1b9-d24abdeb14c7"
      },
      "execution_count": 11,
      "outputs": [
        {
          "output_type": "stream",
          "name": "stdout",
          "text": [
            "(10, 20, 30)\n"
          ]
        }
      ]
    },
    {
      "cell_type": "code",
      "source": [
        "# 12.  Write a code to access the first element of the tuple ('apple', 'banana', 'cherry')\n",
        "my_tuple = ('apple', 'banana', 'cherry')\n",
        "my_tuple[0]"
      ],
      "metadata": {
        "colab": {
          "base_uri": "https://localhost:8080/",
          "height": 36
        },
        "id": "xuiEl72Ro5I_",
        "outputId": "f546b379-78e1-4d10-d434-bf5301ba9c28"
      },
      "execution_count": 12,
      "outputs": [
        {
          "output_type": "execute_result",
          "data": {
            "text/plain": [
              "'apple'"
            ],
            "application/vnd.google.colaboratory.intrinsic+json": {
              "type": "string"
            }
          },
          "metadata": {},
          "execution_count": 12
        }
      ]
    },
    {
      "cell_type": "code",
      "source": [
        "# 13.  Write a code to count how many times the number 2 appears in the tuple (1, 2, 3, 2, 4, 2)\n",
        "my_tuple = (1,2,3,2,4,2)\n",
        "my_tuple.count(2)"
      ],
      "metadata": {
        "colab": {
          "base_uri": "https://localhost:8080/"
        },
        "id": "J4TPugsto--l",
        "outputId": "ce752a94-0f18-4a35-803f-df670121b232"
      },
      "execution_count": 13,
      "outputs": [
        {
          "output_type": "execute_result",
          "data": {
            "text/plain": [
              "3"
            ]
          },
          "metadata": {},
          "execution_count": 13
        }
      ]
    },
    {
      "cell_type": "code",
      "source": [
        "# 14. Write a code to find the index of the element \"cat\" in the tuple ('dog', 'cat', 'rabbit').\n",
        "my_tuple = ('dog', 'cat', 'rabbit')\n",
        "my_tuple.index('cat')"
      ],
      "metadata": {
        "colab": {
          "base_uri": "https://localhost:8080/"
        },
        "id": "Z_pEx46Jpb1z",
        "outputId": "d0ca1690-1af9-4254-be1f-ffb847ae7073"
      },
      "execution_count": 14,
      "outputs": [
        {
          "output_type": "execute_result",
          "data": {
            "text/plain": [
              "1"
            ]
          },
          "metadata": {},
          "execution_count": 14
        }
      ]
    },
    {
      "cell_type": "code",
      "source": [
        "# 15. Write a code to check if the element \"banana\" is in the tuple ('apple', 'orange', 'banana').\n",
        "my_tuple = ('apple', 'orange', 'banana')\n",
        "'banana' in my_tuple"
      ],
      "metadata": {
        "colab": {
          "base_uri": "https://localhost:8080/"
        },
        "id": "1fs_TLWxpgeg",
        "outputId": "83e578e4-c338-46e1-c8c4-0ad8edc8dd06"
      },
      "execution_count": 15,
      "outputs": [
        {
          "output_type": "execute_result",
          "data": {
            "text/plain": [
              "True"
            ]
          },
          "metadata": {},
          "execution_count": 15
        }
      ]
    },
    {
      "cell_type": "code",
      "source": [
        "# 16. Write a code to create a set with the elements 1, 2, 3, 4, 5 and print it.\n",
        "my_set = {1,2,3,4,5}\n",
        "print(my_set)"
      ],
      "metadata": {
        "colab": {
          "base_uri": "https://localhost:8080/"
        },
        "id": "SLaTZx4Rpmxz",
        "outputId": "7bc56d3a-3091-48f7-bcef-d843a8bb83db"
      },
      "execution_count": 16,
      "outputs": [
        {
          "output_type": "stream",
          "name": "stdout",
          "text": [
            "{1, 2, 3, 4, 5}\n"
          ]
        }
      ]
    },
    {
      "cell_type": "code",
      "source": [
        "# 17.  Write a code to add the element 6 to the set {1, 2, 3, 4}.\n",
        "my_set = {1,2,3,4}\n",
        "my_set.add(6)\n",
        "print(my_set)"
      ],
      "metadata": {
        "colab": {
          "base_uri": "https://localhost:8080/"
        },
        "id": "ia-05lQHpuc2",
        "outputId": "64ce5e7d-794d-4d38-d2b7-7013cf17443e"
      },
      "execution_count": 17,
      "outputs": [
        {
          "output_type": "stream",
          "name": "stdout",
          "text": [
            "{1, 2, 3, 4, 6}\n"
          ]
        }
      ]
    },
    {
      "cell_type": "code",
      "source": [
        "# 18. Write a code to create a tuple with the elements 10, 20, 30 and print it\n",
        "my_tuple1 = (10,20,30)\n",
        "print(my_tuple1)"
      ],
      "metadata": {
        "colab": {
          "base_uri": "https://localhost:8080/"
        },
        "id": "B_iLyke3p0ZE",
        "outputId": "17d12928-d414-47bb-b0a2-5752c1fa6deb"
      },
      "execution_count": 18,
      "outputs": [
        {
          "output_type": "stream",
          "name": "stdout",
          "text": [
            "(10, 20, 30)\n"
          ]
        }
      ]
    },
    {
      "cell_type": "code",
      "source": [
        "# 19.  Write a code to access the first element of the tuple ('apple', 'banana', 'cherry')\n",
        "my_tuple2 = ('apple', 'banana', 'cherry')\n",
        "my_tuple2[0]"
      ],
      "metadata": {
        "colab": {
          "base_uri": "https://localhost:8080/",
          "height": 36
        },
        "id": "LVCTBE8Ap-6p",
        "outputId": "be7541f2-5141-4239-a467-a4828a5d5be4"
      },
      "execution_count": 19,
      "outputs": [
        {
          "output_type": "execute_result",
          "data": {
            "text/plain": [
              "'apple'"
            ],
            "application/vnd.google.colaboratory.intrinsic+json": {
              "type": "string"
            }
          },
          "metadata": {},
          "execution_count": 19
        }
      ]
    },
    {
      "cell_type": "code",
      "source": [
        "# 20.  Write a code to count how many times the number 2 appears in the tuple (1, 2, 3, 2, 4, 2)\n",
        "my_tuple3 = (1,2,3,2,4,2)\n",
        "my_tuple3.count(2)"
      ],
      "metadata": {
        "colab": {
          "base_uri": "https://localhost:8080/"
        },
        "id": "DPDSLunvqE0z",
        "outputId": "71c0ce21-f216-4225-b68e-46b07bd735aa"
      },
      "execution_count": 20,
      "outputs": [
        {
          "output_type": "execute_result",
          "data": {
            "text/plain": [
              "3"
            ]
          },
          "metadata": {},
          "execution_count": 20
        }
      ]
    },
    {
      "cell_type": "code",
      "source": [
        "# 21. Write a code to find the index of the element \"cat\" in the tuple ('dog', 'cat', 'rabbit').\n",
        "my_tuple4 = ('dog', 'cat', 'rabbit')\n",
        "my_tuple4.index('cat')"
      ],
      "metadata": {
        "colab": {
          "base_uri": "https://localhost:8080/"
        },
        "id": "_9yhVqjgqLDG",
        "outputId": "3523ea07-528a-49df-9dab-fd96bf679b03"
      },
      "execution_count": 21,
      "outputs": [
        {
          "output_type": "execute_result",
          "data": {
            "text/plain": [
              "1"
            ]
          },
          "metadata": {},
          "execution_count": 21
        }
      ]
    },
    {
      "cell_type": "code",
      "source": [
        "# 22. Write a code to check if the element \"banana\" is in the tuple ('apple', 'orange', 'banana')\n",
        "my_tuple5 = ('apple', 'orange', 'banana')\n",
        "'banana' in my_tuple"
      ],
      "metadata": {
        "colab": {
          "base_uri": "https://localhost:8080/"
        },
        "id": "cwqkD77wqSGs",
        "outputId": "86036c3a-5098-45be-eee7-f58cb67db3e8"
      },
      "execution_count": 22,
      "outputs": [
        {
          "output_type": "execute_result",
          "data": {
            "text/plain": [
              "True"
            ]
          },
          "metadata": {},
          "execution_count": 22
        }
      ]
    },
    {
      "cell_type": "code",
      "source": [
        "# 23. Write a code to create a set with the elements 1, 2, 3, 4, 5 and print it.\n",
        "my_set1 = {1,2,3,4,5}\n",
        "print(my_set1)"
      ],
      "metadata": {
        "colab": {
          "base_uri": "https://localhost:8080/"
        },
        "id": "5qPnUXRmqXzM",
        "outputId": "35960e74-2dab-498a-ce2f-214fc9ecf206"
      },
      "execution_count": 23,
      "outputs": [
        {
          "output_type": "stream",
          "name": "stdout",
          "text": [
            "{1, 2, 3, 4, 5}\n"
          ]
        }
      ]
    },
    {
      "cell_type": "code",
      "source": [
        "# 24.  Write a code to add the element 6 to the set {1, 2, 3, 4}.\n",
        "my_set2 = {1,2,3,4}\n",
        "my_set2.add(6)\n",
        "print(my_set2)"
      ],
      "metadata": {
        "colab": {
          "base_uri": "https://localhost:8080/"
        },
        "id": "3YuVC52aqdWY",
        "outputId": "ccc9d762-cda2-4292-cd42-4e821f87739e"
      },
      "execution_count": 24,
      "outputs": [
        {
          "output_type": "stream",
          "name": "stdout",
          "text": [
            "{1, 2, 3, 4, 6}\n"
          ]
        }
      ]
    }
  ]
}